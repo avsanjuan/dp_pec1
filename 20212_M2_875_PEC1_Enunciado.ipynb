{
 "cells": [
  {
   "cell_type": "markdown",
   "metadata": {
    "id": "YO1mZRrP4FT2"
   },
   "source": [
    "<div style=\"width: 100%; clear: both;\">\n",
    "<div style=\"float: left; width: 50%;\">\n",
    "<img src=\"http://www.uoc.edu/portal/_resources/common/imatges/marca_UOC/UOC_Masterbrand.jpg\", align=\"left\">\n",
    "</div>\n",
    "<div style=\"float: right; width: 50%;\">\n",
    "<p style=\"margin: 0; padding-top: 22px; text-align:right;\">M2.875 · Deep Learning · PEC1</p>\n",
    "<p style=\"margin: 0; text-align:right;\">2021-2 · Máster universitario en Ciencia de datos (Data science)</p>\n",
    "<p style=\"margin: 0; text-align:right; padding-button: 100px;\">Estudios de Informática, Multimedia y Telecomunicación</p>\n",
    "</div>\n",
    "</div>\n",
    "<div style=\"width:100%;\">&nbsp;</div>\n",
    "\n",
    "\n",
    "# PEC 1: Redes neuronales artificiales\n",
    "\n",
    "En esta práctica implementaremos redes neuronales artificiales para resolver problemas de:\n",
    "\n",
    "   - Clasificación\n",
    "   - Regresión   \n",
    "\n",
    "\n",
    "**Importante: La entrega debe hacerse en formato notebook y en formato html donde se vea el código y los resultados y comentarios de cada ejercicio. Para exportar el notebook a html puede hacerse desde el menú File $\\to$ Download as $\\to$ HTML.**"
   ]
  },
  {
   "cell_type": "markdown",
   "metadata": {
    "id": "M35X9fQv4dUv"
   },
   "source": [
    "## 0. Contexto y carga de librerías"
   ]
  },
  {
   "cell_type": "markdown",
   "metadata": {
    "id": "GtU00Tcg-KHd"
   },
   "source": [
    "El siguiente código carga los paquetes necesarios para la práctica y lee el fichero de datos que usaremos."
   ]
  },
  {
   "cell_type": "markdown",
   "metadata": {
    "id": "m9pjq3hFA5Yg"
   },
   "source": [
    "Los datos contienen información sobre coches de segunda mano, sus características y el precio de re-venta en euros. En un primer ejercicio diseñaremos un modelo que nos permita clasificar los coches en tres grupos según su gama de precio. En el segundo ejercicio diseñaremos un modelo de regresión para predecir el precio de re-venta."
   ]
  },
  {
   "cell_type": "code",
   "execution_count": 97,
   "metadata": {
    "id": "19ixS6Vp-KHd"
   },
   "outputs": [],
   "source": [
    "import pandas as pd\n",
    "import numpy as np\n",
    "\n",
    "import matplotlib.pyplot as plt\n",
    "import seaborn as sns\n",
    "import timeit\n",
    "\n",
    "import keras\n",
    "from keras.models import Sequential, Model\n",
    "from keras.layers import Dense\n",
    "from tensorflow.keras.optimizers import Adam, SGD, Adadelta, Adagrad\n",
    "\n",
    "from sklearn.model_selection import train_test_split\n",
    "from sklearn.metrics import confusion_matrix, mean_squared_error, classification_report\n",
    "from sklearn.preprocessing import OneHotEncoder, StandardScaler\n",
    "from sklearn.preprocessing import normalize\n"
   ]
  },
  {
   "cell_type": "code",
   "execution_count": 98,
   "metadata": {
    "id": "vmCg_5zXItWM"
   },
   "outputs": [],
   "source": [
    "##To read directly from Drive in Google Colab use:\n",
    "#from google.colab import drive\n",
    "#drive.mount('/content/drive')\n"
   ]
  },
  {
   "cell_type": "code",
   "execution_count": 99,
   "metadata": {
    "id": "oAEbN2Xc-KHe"
   },
   "outputs": [],
   "source": [
    "#df = pd.read_csv(\"/content/drive/MyDrive/vicente/dataset.csv\")\n",
    "df = pd.read_csv(\"dataset.csv\")"
   ]
  },
  {
   "cell_type": "code",
   "execution_count": 100,
   "metadata": {
    "id": "g8gJfmpY-r2p"
   },
   "outputs": [
    {
     "data": {
      "text/html": [
       "<div>\n",
       "<style scoped>\n",
       "    .dataframe tbody tr th:only-of-type {\n",
       "        vertical-align: middle;\n",
       "    }\n",
       "\n",
       "    .dataframe tbody tr th {\n",
       "        vertical-align: top;\n",
       "    }\n",
       "\n",
       "    .dataframe thead th {\n",
       "        text-align: right;\n",
       "    }\n",
       "</style>\n",
       "<table border=\"1\" class=\"dataframe\">\n",
       "  <thead>\n",
       "    <tr style=\"text-align: right;\">\n",
       "      <th></th>\n",
       "      <th>months_old</th>\n",
       "      <th>km</th>\n",
       "      <th>fuel_type</th>\n",
       "      <th>horsepower</th>\n",
       "      <th>metcolor</th>\n",
       "      <th>automatic</th>\n",
       "      <th>size_engine</th>\n",
       "      <th>doors_num</th>\n",
       "      <th>weight</th>\n",
       "      <th>price</th>\n",
       "    </tr>\n",
       "  </thead>\n",
       "  <tbody>\n",
       "    <tr>\n",
       "      <th>0</th>\n",
       "      <td>73</td>\n",
       "      <td>97494</td>\n",
       "      <td>Petrol</td>\n",
       "      <td>110</td>\n",
       "      <td>1</td>\n",
       "      <td>0</td>\n",
       "      <td>1600</td>\n",
       "      <td>5</td>\n",
       "      <td>1085</td>\n",
       "      <td>10950</td>\n",
       "    </tr>\n",
       "    <tr>\n",
       "      <th>1</th>\n",
       "      <td>48</td>\n",
       "      <td>89049</td>\n",
       "      <td>Petrol</td>\n",
       "      <td>97</td>\n",
       "      <td>1</td>\n",
       "      <td>0</td>\n",
       "      <td>1400</td>\n",
       "      <td>5</td>\n",
       "      <td>1060</td>\n",
       "      <td>13500</td>\n",
       "    </tr>\n",
       "    <tr>\n",
       "      <th>2</th>\n",
       "      <td>40</td>\n",
       "      <td>161000</td>\n",
       "      <td>Diesel</td>\n",
       "      <td>69</td>\n",
       "      <td>1</td>\n",
       "      <td>0</td>\n",
       "      <td>1900</td>\n",
       "      <td>3</td>\n",
       "      <td>1105</td>\n",
       "      <td>13950</td>\n",
       "    </tr>\n",
       "    <tr>\n",
       "      <th>3</th>\n",
       "      <td>37</td>\n",
       "      <td>38812</td>\n",
       "      <td>Petrol</td>\n",
       "      <td>97</td>\n",
       "      <td>0</td>\n",
       "      <td>0</td>\n",
       "      <td>1400</td>\n",
       "      <td>3</td>\n",
       "      <td>1025</td>\n",
       "      <td>13450</td>\n",
       "    </tr>\n",
       "    <tr>\n",
       "      <th>4</th>\n",
       "      <td>55</td>\n",
       "      <td>33230</td>\n",
       "      <td>Petrol</td>\n",
       "      <td>110</td>\n",
       "      <td>0</td>\n",
       "      <td>0</td>\n",
       "      <td>1600</td>\n",
       "      <td>3</td>\n",
       "      <td>1050</td>\n",
       "      <td>13500</td>\n",
       "    </tr>\n",
       "  </tbody>\n",
       "</table>\n",
       "</div>"
      ],
      "text/plain": [
       "   months_old      km fuel_type  horsepower  metcolor  automatic  size_engine  \\\n",
       "0          73   97494    Petrol         110         1          0         1600   \n",
       "1          48   89049    Petrol          97         1          0         1400   \n",
       "2          40  161000    Diesel          69         1          0         1900   \n",
       "3          37   38812    Petrol          97         0          0         1400   \n",
       "4          55   33230    Petrol         110         0          0         1600   \n",
       "\n",
       "   doors_num  weight  price  \n",
       "0          5    1085  10950  \n",
       "1          5    1060  13500  \n",
       "2          3    1105  13950  \n",
       "3          3    1025  13450  \n",
       "4          3    1050  13500  "
      ]
     },
     "execution_count": 100,
     "metadata": {},
     "output_type": "execute_result"
    }
   ],
   "source": [
    "df.head(5)"
   ]
  },
  {
   "cell_type": "markdown",
   "metadata": {
    "id": "v4uy3S_l4uMK"
   },
   "source": [
    "## 1. Exploración (1 punto)\n",
    "\n"
   ]
  },
  {
   "cell_type": "markdown",
   "metadata": {
    "id": "-OTrT_SvJoYF"
   },
   "source": [
    "En primer lugar exploraremos el conjunto de datos. "
   ]
  },
  {
   "cell_type": "markdown",
   "metadata": {
    "id": "WArt2HG7n1qY"
   },
   "source": [
    "<div style=\"background-color: #EDF7FF; border-color: #7C9DBF; border-left: 5px solid #7C9DBF; padding: 0.5em;\">\n",
    "<strong>Ejercicio (1 punto):</strong> Explora los datos: \n",
    "\n",
    "<ul>\n",
    "        \n",
    "<li> Indica el tamaño del dataset y el número de variables categóricas y continuas del conjunto de datos</li> \n",
    "<li>   Grafica las distribuciones de las variables categóricas y de las continuas</li>\n",
    "<li>    Genera una tabla de correlaciones de todas las variables usando la librería <code>seaborn</code>, mostrando en cada casilla el valor de la correlación</li>\n",
    "<li>    Genera una tabla (usando la librería <code>seaborn</code>) que muestre únicamente las correlaciones entre el precio y el resto de variables, ordenada de mayor a menor según los valores de correlación</li>\n",
    "<li>  Comenta los resultados de la exploración de datos</li>\n",
    "</ul>\n",
    "\n",
    "</div>"
   ]
  },
  {
   "cell_type": "markdown",
   "metadata": {
    "id": "V10fH2QxP_vg"
   },
   "source": [
    "\n",
    "\n",
    "*   **Variables**\n",
    "\n"
   ]
  },
  {
   "cell_type": "code",
   "execution_count": 101,
   "metadata": {
    "id": "N3TOQ_ko_COF"
   },
   "outputs": [
    {
     "data": {
      "text/plain": [
       "(1436, 10)"
      ]
     },
     "execution_count": 101,
     "metadata": {},
     "output_type": "execute_result"
    }
   ],
   "source": [
    "#Dataset size\n",
    "df.describe()\n",
    "df.shape"
   ]
  },
  {
   "cell_type": "code",
   "execution_count": 102,
   "metadata": {},
   "outputs": [
    {
     "data": {
      "text/plain": [
       "int64     9\n",
       "object    1\n",
       "dtype: int64"
      ]
     },
     "execution_count": 102,
     "metadata": {},
     "output_type": "execute_result"
    }
   ],
   "source": [
    "df.dtypes.value_counts()"
   ]
  },
  {
   "cell_type": "code",
   "execution_count": 103,
   "metadata": {
    "id": "i8-SrElyJFy3"
   },
   "outputs": [],
   "source": [
    "#Number of categorical and continuous variables\n",
    "num_categorical_variables = 1\n",
    "num_continuous_variables = 9"
   ]
  },
  {
   "cell_type": "markdown",
   "metadata": {
    "id": "bJvw7JwmQFss"
   },
   "source": [
    "*   **Distribuciones**\n",
    "\n",
    "\n",
    "\n"
   ]
  },
  {
   "cell_type": "code",
   "execution_count": 104,
   "metadata": {
    "id": "Oks_R5EhN5om"
   },
   "outputs": [
    {
     "data": {
      "image/png": "[encoded data removed]",
      "text/plain": [
       "<Figure size 1800x288 with 1 Axes>"
      ]
     },
     "metadata": {
      "needs_background": "light"
     },
     "output_type": "display_data"
    }
   ],
   "source": [
    " #Distributions of categorical variables\n",
    " fig, ax = plt.subplots(nrows=1, ncols=num_categorical_variables, figsize=(25,4))\n",
    "\n"
   ]
  },
  {
   "cell_type": "code",
   "execution_count": 105,
   "metadata": {
    "id": "tv7CULUcPiTc"
   },
   "outputs": [
    {
     "data": {
      "image/png": "[encoded data removed]",
      "text/plain": [
       "<Figure size 1800x288 with 9 Axes>"
      ]
     },
     "metadata": {
      "needs_background": "light"
     },
     "output_type": "display_data"
    }
   ],
   "source": [
    "#Distributions continuous variables\n",
    "fig, ax = plt.subplots(nrows=1, ncols=num_continuous_variables, figsize=(25,4))\n",
    "\n",
    "\n"
   ]
  },
  {
   "cell_type": "markdown",
   "metadata": {
    "id": "YPbtmbqRASsM"
   },
   "source": [
    "*   **Correlaciones**\n",
    "\n",
    "\n"
   ]
  },
  {
   "cell_type": "code",
   "execution_count": 106,
   "metadata": {
    "id": "LvO4C7ymANXf"
   },
   "outputs": [
    {
     "name": "stdout",
     "output_type": "stream",
     "text": [
      "             months_old        km  horsepower  metcolor  automatic  \\\n",
      "months_old     1.000000  0.502894   -0.157767 -0.106133   0.031003   \n",
      "km             0.502894  1.000000   -0.333538 -0.080503  -0.081854   \n",
      "horsepower    -0.157767 -0.333538    1.000000  0.058712   0.013144   \n",
      "metcolor      -0.106133 -0.080503    0.058712  1.000000  -0.019335   \n",
      "automatic      0.031003 -0.081854    0.013144 -0.019335   1.000000   \n",
      "size_engine   -0.133181  0.300699    0.049362  0.036717  -0.069929   \n",
      "doors_num     -0.148312 -0.036197    0.092424  0.085243  -0.027654   \n",
      "weight        -0.463534 -0.030487    0.091274  0.056582   0.056271   \n",
      "price         -0.873452 -0.569960    0.314990  0.108905   0.033081   \n",
      "\n",
      "             size_engine  doors_num    weight     price  \n",
      "months_old     -0.133181  -0.148312 -0.463534 -0.873452  \n",
      "km              0.300699  -0.036197 -0.030487 -0.569960  \n",
      "horsepower      0.049362   0.092424  0.091274  0.314990  \n",
      "metcolor        0.036717   0.085243  0.056582  0.108905  \n",
      "automatic      -0.069929  -0.027654  0.056271  0.033081  \n",
      "size_engine     1.000000   0.129365  0.648702  0.162985  \n",
      "doors_num       0.129365   1.000000  0.298122  0.185326  \n",
      "weight          0.648702   0.298122  1.000000  0.578452  \n",
      "price           0.162985   0.185326  0.578452  1.000000  \n"
     ]
    }
   ],
   "source": [
    "#All variables correlations\n",
    "correlations=df.corr()\n",
    "print(correlations)"
   ]
  },
  {
   "cell_type": "code",
   "execution_count": 107,
   "metadata": {
    "id": "RSJWiWThAQj5"
   },
   "outputs": [
    {
     "name": "stdout",
     "output_type": "stream",
     "text": [
      "months_old    -0.873452\n",
      "km            -0.569960\n",
      "horsepower     0.314990\n",
      "metcolor       0.108905\n",
      "automatic      0.033081\n",
      "size_engine    0.162985\n",
      "doors_num      0.185326\n",
      "weight         0.578452\n",
      "price          1.000000\n",
      "Name: price, dtype: float64\n"
     ]
    }
   ],
   "source": [
    "#Features correlating with Price\n",
    "print(correlations[\"price\"])"
   ]
  },
  {
   "cell_type": "markdown",
   "metadata": {
    "id": "n1GaD4JqQhsJ"
   },
   "source": [
    "\n",
    "\n",
    "*   **Comentarios resultado exploración**\n",
    "\n"
   ]
  },
  {
   "cell_type": "markdown",
   "metadata": {
    "id": "N_8tQfTTQm9Z"
   },
   "source": [
    "Contamos con un dataset de 10 dimensiones, 9 de ellas son continuas y 1 es categorica, sigue una distribución normal y las correlaciones entre ellas no son muy fuertes, excepto el precio y la edad del auto que es inversa \n"
   ]
  },
  {
   "cell_type": "markdown",
   "metadata": {
    "id": "kdn0ZNWI5HFE"
   },
   "source": [
    "## 2. Red neuronal artificial: Clasificación (4.5 puntos)\n"
   ]
  },
  {
   "cell_type": "markdown",
   "metadata": {
    "id": "3Li5TkOu7tGR"
   },
   "source": [
    "En este apartado entrenaremos un modelo que intente clasificar los coches según su gama de precio. Para ello crearemos una nueva variable como indicador de calidad del coche (gama baja, media o alta), siguiendo las siguientes condiciones:\n",
    "\n",
    "\n",
    "\n",
    "*   _low-end_: precio menor que 11000 euros\n",
    "*   _medium-end_: precio mayor o igual que 11000 euros y menor que 13000\n",
    "*   _high-end_: precio mayor o igual que 13000\n",
    "\n"
   ]
  },
  {
   "cell_type": "markdown",
   "metadata": {
    "id": "zkZrkOkb5QWL"
   },
   "source": [
    "### Pre-procesado\n"
   ]
  },
  {
   "cell_type": "markdown",
   "metadata": {
    "id": "v0z5hx64pNhv"
   },
   "source": [
    "<div style=\"background-color: #EDF7FF; border-color: #7C9DBF; border-left: 5px solid #7C9DBF; padding: 0.5em;\">\n",
    "<strong>Ejercicio (0.75 puntos):</strong> Pre-procesa los datos: \n",
    "\n",
    "<ul>\n",
    "        \n",
    "<li>   Crea una nueva variable <code>quality</code> que incluya la gama del coche, con las condiciones indicadas</li>\n",
    "<li>   Muestra el histograma de la nueva variable <code>quality</code></li>\n",
    "<li>   Crea los vectores de variables dependientes (<i>features</i>) y de la variable independiente (<i>labels</i>)</li>\n",
    "<li>   Normaliza debidamente los datos y binariza el vector de etiquetas (<i>labels</i>) </li>\n",
    "<li>   Divide el conjunto de datos en 80% para entrenamiento y 20% para test, usando la función <code>train_test_split</code></li>\n",
    "<li>   Muestra las dimensiones de los conjuntos de entrenamiento y test</li>\n",
    "</ul>\n",
    "</div>"
   ]
  },
  {
   "cell_type": "code",
   "execution_count": 108,
   "metadata": {
    "id": "GfltZ361AC89"
   },
   "outputs": [],
   "source": [
    "#Create new variable: quality\n",
    "df[\"quality\"]=df.apply(lambda x: \"low-end\" if int(x[\"price\"]) < 11000 else \"medium-end\" if int(x[\"price\"]) < 13000 else \"high-end\", axis=1)"
   ]
  },
  {
   "cell_type": "code",
   "execution_count": 109,
   "metadata": {
    "id": "LLcPtn18BlQs"
   },
   "outputs": [
    {
     "data": {
      "image/png": "[encoded data removed]",
      "text/plain": [
       "<Figure size 432x288 with 1 Axes>"
      ]
     },
     "metadata": {
      "needs_background": "light"
     },
     "output_type": "display_data"
    }
   ],
   "source": [
    "#Histogram car quality\n",
    "plt.hist(x=df[\"quality\"])\n",
    "plt.title('Histogram of qualities')\n",
    "plt.xlabel('Quality')\n",
    "plt.ylabel('Frecuency')\n",
    "\n",
    "plt.show() "
   ]
  },
  {
   "cell_type": "code",
   "execution_count": 110,
   "metadata": {
    "id": "whqYSqQEBqjM"
   },
   "outputs": [],
   "source": [
    "#Create features and labels vectors\n",
    "\n",
    "labels = np.array(df[[\"quality\"]])\n",
    "features = np.array(df[[\"months_old\",\"km\",\"horsepower\",\"metcolor\",\"automatic\",\"size_engine\",\"doors_num\",\"weight\",\"price\"]])\n"
   ]
  },
  {
   "cell_type": "code",
   "execution_count": 111,
   "metadata": {
    "id": "r8MdGHI7Btjr"
   },
   "outputs": [
    {
     "data": {
      "text/plain": [
       "array([[7.43940484e-04, 9.93557994e-01, 1.12100621e-03, ...,\n",
       "        5.09548277e-05, 1.10571976e-02, 1.11591073e-01],\n",
       "       [5.32837901e-04, 9.88514214e-01, 1.07677659e-03, ...,\n",
       "        5.55039481e-05, 1.17668370e-02, 1.49860660e-01],\n",
       "       [2.47496891e-04, 9.96174987e-01, 4.26932137e-04, ...,\n",
       "        1.85622668e-05, 6.83710162e-03, 8.63145408e-02],\n",
       "       ...,\n",
       "       [9.32136539e-04, 9.93911769e-01, 1.04108756e-03, ...,\n",
       "        3.63170080e-05, 1.22872544e-02, 1.08345741e-01],\n",
       "       [9.64122195e-04, 9.31655380e-01, 2.65133604e-03, ...,\n",
       "        1.20515274e-04, 2.60312993e-02, 3.60340671e-01],\n",
       "       [1.29786670e-03, 9.63897002e-01, 2.41975148e-03, ...,\n",
       "        1.09988703e-04, 2.35375825e-02, 2.62873001e-01]])"
      ]
     },
     "execution_count": 111,
     "metadata": {},
     "output_type": "execute_result"
    }
   ],
   "source": [
    "#Normalize the corresponding data\n",
    "features = normalize(features)\n",
    "features"
   ]
  },
  {
   "cell_type": "code",
   "execution_count": 112,
   "metadata": {},
   "outputs": [
    {
     "name": "stdout",
     "output_type": "stream",
     "text": [
      "[['low-end']\n",
      " ['high-end']\n",
      " ['high-end']\n",
      " ...\n",
      " ['low-end']\n",
      " ['high-end']\n",
      " ['medium-end']]\n"
     ]
    }
   ],
   "source": [
    "print(labels)"
   ]
  },
  {
   "cell_type": "code",
   "execution_count": 113,
   "metadata": {
    "id": "OkVVv7yrBxhc"
   },
   "outputs": [
    {
     "name": "stdout",
     "output_type": "stream",
     "text": [
      "  (0, 1)\t1.0\n",
      "  (1, 0)\t1.0\n",
      "  (2, 0)\t1.0\n",
      "  (3, 0)\t1.0\n",
      "  (4, 0)\t1.0\n",
      "  (5, 0)\t1.0\n",
      "  (6, 2)\t1.0\n",
      "  (7, 2)\t1.0\n",
      "  (8, 2)\t1.0\n",
      "  (9, 1)\t1.0\n",
      "  (10, 1)\t1.0\n",
      "  (11, 0)\t1.0\n",
      "  (12, 1)\t1.0\n",
      "  (13, 0)\t1.0\n",
      "  (14, 2)\t1.0\n",
      "  (15, 0)\t1.0\n",
      "  (16, 1)\t1.0\n",
      "  (17, 0)\t1.0\n",
      "  (18, 2)\t1.0\n",
      "  (19, 0)\t1.0\n",
      "  (20, 0)\t1.0\n",
      "  (21, 1)\t1.0\n",
      "  (22, 1)\t1.0\n",
      "  (23, 0)\t1.0\n",
      "  (24, 1)\t1.0\n",
      "  :\t:\n",
      "  (1411, 0)\t1.0\n",
      "  (1412, 1)\t1.0\n",
      "  (1413, 1)\t1.0\n",
      "  (1414, 0)\t1.0\n",
      "  (1415, 0)\t1.0\n",
      "  (1416, 0)\t1.0\n",
      "  (1417, 0)\t1.0\n",
      "  (1418, 2)\t1.0\n",
      "  (1419, 0)\t1.0\n",
      "  (1420, 2)\t1.0\n",
      "  (1421, 0)\t1.0\n",
      "  (1422, 0)\t1.0\n",
      "  (1423, 0)\t1.0\n",
      "  (1424, 1)\t1.0\n",
      "  (1425, 1)\t1.0\n",
      "  (1426, 2)\t1.0\n",
      "  (1427, 2)\t1.0\n",
      "  (1428, 1)\t1.0\n",
      "  (1429, 1)\t1.0\n",
      "  (1430, 0)\t1.0\n",
      "  (1431, 2)\t1.0\n",
      "  (1432, 1)\t1.0\n",
      "  (1433, 1)\t1.0\n",
      "  (1434, 0)\t1.0\n",
      "  (1435, 2)\t1.0\n"
     ]
    }
   ],
   "source": [
    "#Binarize the labels\n",
    "\n",
    "#labels = OneHotEncoder(handle_unknown='ignore').fit_transform(labels).toarray()\n",
    "labels = OneHotEncoder(handle_unknown='ignore').fit_transform(labels)\n",
    "print(labels)"
   ]
  },
  {
   "cell_type": "code",
   "execution_count": 116,
   "metadata": {
    "id": "JqDRRy2mAgUV"
   },
   "outputs": [],
   "source": [
    "#Train-test split\n",
    "\n",
    "X_train, X_test, y_train, y_test = train_test_split(features, labels, test_size=0.20)\n"
   ]
  },
  {
   "cell_type": "code",
   "execution_count": 117,
   "metadata": {
    "id": "j7FJc1POAii4"
   },
   "outputs": [
    {
     "name": "stdout",
     "output_type": "stream",
     "text": [
      "Dimensiones de conjunto features de entrenamiento:  (1148, 9)\n",
      "Dimensiones de conjunto features de test:  (288, 9)\n",
      "Dimensiones de conjunto labels de entrenamiento:  (1148, 3)\n",
      "Dimensiones de conjunto labels de test:  (288, 3)\n"
     ]
    }
   ],
   "source": [
    "#Shapes\n",
    "print('Dimensiones de conjunto features de entrenamiento: ' , X_train.shape)\n",
    "print('Dimensiones de conjunto features de test: ', X_test.shape)\n",
    "print('Dimensiones de conjunto labels de entrenamiento: ', y_train.shape)\n",
    "print('Dimensiones de conjunto labels de test: ', y_test.shape)"
   ]
  },
  {
   "cell_type": "markdown",
   "metadata": {
    "id": "Z60Pf12T5bjF"
   },
   "source": [
    "### Modelo base\n"
   ]
  },
  {
   "cell_type": "markdown",
   "metadata": {
    "id": "w9Dm_WN5rzGt"
   },
   "source": [
    "Empezaremos diseñando un modelo base con 4 capas ocultas.\n",
    " \n",
    "Nota: Para el ajuste del modelo usaremos los datos de test como conjunto de validación."
   ]
  },
  {
   "cell_type": "markdown",
   "metadata": {
    "id": "X-9gUgcQrGk1"
   },
   "source": [
    "<div style=\"background-color: #EDF7FF; border-color: #7C9DBF; border-left: 5px solid #7C9DBF; padding: 0.5em;\">\n",
    "<strong>Ejercicio (1.25 puntos):</strong> Implementa el modelo de red neuronal artificial:\n",
    "<ul>\n",
    "<li>   Diseña la arquitectura para el modelo de clasificación con la función de activación adecuada para la capa de salida y con las siguientes características:</li>\n",
    "   <ul>\n",
    "   <li> 4 capas ocultas con 64, 32, 10, 8 neuronas sucesivamente</li>\n",
    "   <li> Función de activación de las capas intermedias: ReLU</li>\n",
    "   </ul>\n",
    "\n",
    "<li>   Compila el modelo con la función de pérdida más adecuada, el optimizador Adam, una velocidad de aprendizaje de 0.1, y la métrica Accuracy.</li>\n",
    "\n",
    "<li>   Ajusta el modelo con 20 épocas y un tamaño del batch de 64</li>\n",
    "\n",
    "<li>   Muestra las gráficas de accuracy y loss. En cada gráfica debe visualizarse la curva de entrenamiento y la de validación</li>\n",
    "</ul>\n",
    "</div>"
   ]
  },
  {
   "cell_type": "code",
   "execution_count": 134,
   "metadata": {
    "id": "55FNYaQnB8iS"
   },
   "outputs": [],
   "source": [
    "#Create ANN model\n",
    "model = Sequential()\n",
    "model.add(Dense(64, activation='relu'))\n",
    "model.add(Dense(32, activation='relu'))\n",
    "model.add(Dense(10, activation='relu'))\n",
    "model.add(Dense(8, activation='relu'))\n",
    "model.add(Dense(3, activation='sigmoid'))\n",
    " \n",
    "\n"
   ]
  },
  {
   "cell_type": "code",
   "execution_count": 137,
   "metadata": {
    "id": "4uZBJAsGqJau"
   },
   "outputs": [],
   "source": [
    "#Compile\n",
    "model.compile(loss='binary_crossentropy',\n",
    "              optimizer='adam',\n",
    "              metrics=['accuracy'])"
   ]
  },
  {
   "cell_type": "code",
   "execution_count": 139,
   "metadata": {
    "id": "H-k_iYxBqLQK"
   },
   "outputs": [
    {
     "name": "stdout",
     "output_type": "stream",
     "text": [
      "Epoch 1/20\n"
     ]
    },
    {
     "ename": "ValueError",
     "evalue": "in user code:\n\n    File \"/home/angel/notebook/jupyterenv/lib/python3.8/site-packages/keras/engine/training.py\", line 1021, in train_function  *\n        return step_function(self, iterator)\n    File \"/home/angel/notebook/jupyterenv/lib/python3.8/site-packages/keras/engine/training.py\", line 1010, in step_function  **\n        outputs = model.distribute_strategy.run(run_step, args=(data,))\n    File \"/home/angel/notebook/jupyterenv/lib/python3.8/site-packages/keras/engine/training.py\", line 1000, in run_step  **\n        outputs = model.train_step(data)\n    File \"/home/angel/notebook/jupyterenv/lib/python3.8/site-packages/keras/engine/training.py\", line 861, in train_step\n        self._validate_target_and_loss(y, loss)\n    File \"/home/angel/notebook/jupyterenv/lib/python3.8/site-packages/keras/engine/training.py\", line 818, in _validate_target_and_loss\n        raise ValueError(\n\n    ValueError: Target data is missing. Your model was compiled with loss=binary_crossentropy, and therefore expects target data to be provided in `fit()`.\n",
     "output_type": "error",
     "traceback": [
      "\u001b[0;31m---------------------------------------------------------------------------\u001b[0m",
      "\u001b[0;31mValueError\u001b[0m                                Traceback (most recent call last)",
      "Input \u001b[0;32mIn [139]\u001b[0m, in \u001b[0;36m<module>\u001b[0;34m\u001b[0m\n\u001b[1;32m      1\u001b[0m \u001b[38;5;66;03m#Fit\u001b[39;00m\n\u001b[0;32m----> 2\u001b[0m \u001b[43mmodel\u001b[49m\u001b[38;5;241;43m.\u001b[39;49m\u001b[43mfit\u001b[49m\u001b[43m(\u001b[49m\u001b[43mX_train\u001b[49m\u001b[43m,\u001b[49m\u001b[43m \u001b[49m\u001b[43mepochs\u001b[49m\u001b[38;5;241;43m=\u001b[39;49m\u001b[38;5;241;43m20\u001b[39;49m\u001b[43m)\u001b[49m\n",
      "File \u001b[0;32m~/notebook/jupyterenv/lib/python3.8/site-packages/keras/utils/traceback_utils.py:67\u001b[0m, in \u001b[0;36mfilter_traceback.<locals>.error_handler\u001b[0;34m(*args, **kwargs)\u001b[0m\n\u001b[1;32m     65\u001b[0m \u001b[38;5;28;01mexcept\u001b[39;00m \u001b[38;5;167;01mException\u001b[39;00m \u001b[38;5;28;01mas\u001b[39;00m e:  \u001b[38;5;66;03m# pylint: disable=broad-except\u001b[39;00m\n\u001b[1;32m     66\u001b[0m   filtered_tb \u001b[38;5;241m=\u001b[39m _process_traceback_frames(e\u001b[38;5;241m.\u001b[39m__traceback__)\n\u001b[0;32m---> 67\u001b[0m   \u001b[38;5;28;01mraise\u001b[39;00m e\u001b[38;5;241m.\u001b[39mwith_traceback(filtered_tb) \u001b[38;5;28;01mfrom\u001b[39;00m \u001b[38;5;28mNone\u001b[39m\n\u001b[1;32m     68\u001b[0m \u001b[38;5;28;01mfinally\u001b[39;00m:\n\u001b[1;32m     69\u001b[0m   \u001b[38;5;28;01mdel\u001b[39;00m filtered_tb\n",
      "File \u001b[0;32m~/notebook/jupyterenv/lib/python3.8/site-packages/tensorflow/python/framework/func_graph.py:1147\u001b[0m, in \u001b[0;36mfunc_graph_from_py_func.<locals>.autograph_handler\u001b[0;34m(*args, **kwargs)\u001b[0m\n\u001b[1;32m   1145\u001b[0m \u001b[38;5;28;01mexcept\u001b[39;00m \u001b[38;5;167;01mException\u001b[39;00m \u001b[38;5;28;01mas\u001b[39;00m e:  \u001b[38;5;66;03m# pylint:disable=broad-except\u001b[39;00m\n\u001b[1;32m   1146\u001b[0m   \u001b[38;5;28;01mif\u001b[39;00m \u001b[38;5;28mhasattr\u001b[39m(e, \u001b[38;5;124m\"\u001b[39m\u001b[38;5;124mag_error_metadata\u001b[39m\u001b[38;5;124m\"\u001b[39m):\n\u001b[0;32m-> 1147\u001b[0m     \u001b[38;5;28;01mraise\u001b[39;00m e\u001b[38;5;241m.\u001b[39mag_error_metadata\u001b[38;5;241m.\u001b[39mto_exception(e)\n\u001b[1;32m   1148\u001b[0m   \u001b[38;5;28;01melse\u001b[39;00m:\n\u001b[1;32m   1149\u001b[0m     \u001b[38;5;28;01mraise\u001b[39;00m\n",
      "\u001b[0;31mValueError\u001b[0m: in user code:\n\n    File \"/home/angel/notebook/jupyterenv/lib/python3.8/site-packages/keras/engine/training.py\", line 1021, in train_function  *\n        return step_function(self, iterator)\n    File \"/home/angel/notebook/jupyterenv/lib/python3.8/site-packages/keras/engine/training.py\", line 1010, in step_function  **\n        outputs = model.distribute_strategy.run(run_step, args=(data,))\n    File \"/home/angel/notebook/jupyterenv/lib/python3.8/site-packages/keras/engine/training.py\", line 1000, in run_step  **\n        outputs = model.train_step(data)\n    File \"/home/angel/notebook/jupyterenv/lib/python3.8/site-packages/keras/engine/training.py\", line 861, in train_step\n        self._validate_target_and_loss(y, loss)\n    File \"/home/angel/notebook/jupyterenv/lib/python3.8/site-packages/keras/engine/training.py\", line 818, in _validate_target_and_loss\n        raise ValueError(\n\n    ValueError: Target data is missing. Your model was compiled with loss=binary_crossentropy, and therefore expects target data to be provided in `fit()`.\n"
     ]
    }
   ],
   "source": [
    "#Fit\n",
    "model.fit(X_train, y_train, epochs=20)"
   ]
  },
  {
   "cell_type": "code",
   "execution_count": null,
   "metadata": {
    "id": "Id4u4igDBHtK"
   },
   "outputs": [],
   "source": [
    "#Plots \n"
   ]
  },
  {
   "cell_type": "markdown",
   "metadata": {
    "id": "epfveZ6I5rzR"
   },
   "source": [
    "### Influencia velocidad aprendizaje y optimizador"
   ]
  },
  {
   "cell_type": "markdown",
   "metadata": {
    "id": "Pvt1o-bzDgQs"
   },
   "source": [
    "Una vez tenemos el modelo base, analizaremos la influencia que pueden tener la velocidad de aprendizaje y el tipo de optimizador en la mejora del rendimiento."
   ]
  },
  {
   "cell_type": "markdown",
   "metadata": {
    "id": "k4MKwGwYtBML"
   },
   "source": [
    "<div style=\"background-color: #EDF7FF; border-color: #7C9DBF; border-left: 5px solid #7C9DBF; padding: 0.5em;\">\n",
    "<strong>Ejercicio (1.5 puntos):</strong> Implementa una función para entrenar la arquitectura del ejercicio anterior para 4 optimizadores diferentes: Adam, SGD, Adadelta, Adagrad, y 4 velocidades de aprendizaje: 0.001, 0.01, 0.05, 0.1. \n",
    "Entrena los modelos, y representa dos gráficas:\n",
    " <ul>\n",
    "     <li> Tiempo de entrenamiento vs Velocidad de aprendizaje</li>\n",
    "     <li>  <i>Accuracy</i> vs Velocidad de aprendizaje</li>\n",
    "</ul>   \n",
    "    \n",
    "Cada gráfica debe incluir la evolución obtenida por los cuatro optimizadores para poderlos comparar mejor.\n",
    "    \n",
    "-----------------------------------------------------------------------------------------------------------\n",
    "<b>Importante</b>: para la entrega de la PEC, fijar el parámetro <code>verbose = 0</code> en el entrenamiento de los modelos. La solución únicamente debe mostrar las gráficas resultantes.\n",
    "</div>"
   ]
  },
  {
   "cell_type": "code",
   "execution_count": null,
   "metadata": {
    "id": "yt72wL7_CauO"
   },
   "outputs": [],
   "source": [
    "#Function to compute several models changing Optimizers and learning rate\n"
   ]
  },
  {
   "cell_type": "code",
   "execution_count": null,
   "metadata": {
    "id": "PF9BZo4WCdX6"
   },
   "outputs": [],
   "source": [
    "#Compute models\n"
   ]
  },
  {
   "cell_type": "code",
   "execution_count": null,
   "metadata": {
    "id": "KALAyx3bCgBm"
   },
   "outputs": [],
   "source": [
    "#Plots\n"
   ]
  },
  {
   "cell_type": "markdown",
   "metadata": {
    "id": "3FFT0HcW5yzD"
   },
   "source": [
    "### Elección del mejor modelo"
   ]
  },
  {
   "cell_type": "markdown",
   "metadata": {
    "id": "nxM_49dxuC1L"
   },
   "source": [
    "<div style=\"background-color: #EDF7FF; border-color: #7C9DBF; border-left: 5px solid #7C9DBF; padding: 0.5em;\">\n",
    "<strong>Ejercicio (1 punto):</strong> Identifica el valor de la velocidad de aprendizaje y del optimizador que mejor rendimiento dan al modelo, según los resultados del ejercicio anterior:\n",
    "<ul>\n",
    "    \n",
    "<li>   Justifica la elección</li>\n",
    "<li>   Compila y entrena el modelo elegido</li>\n",
    "<li>   Muestra las correspondientes gráficas de <i>Accuracy</i> y <i>Loss</i> de los conjuntos de entrenamiento y validación, e indica el <i>Accuracy</i> del modelo </li>\n",
    "<li>   Muestra la matriz de confusión multi-clase con las etiquetas originales de <code>quality</code> (<i>low-end</i>, <i>medium-end</i>, <i>high-end</i>)</li>\n",
    "<li>   Muestra la precisión, recall y F1-score resultantes para cada etiqueta</li>\n",
    "<li>   Comenta los resultados obtenidos</li>\n",
    "</ul>\n",
    "</div>"
   ]
  },
  {
   "cell_type": "code",
   "execution_count": null,
   "metadata": {
    "id": "4oiJyrGL6Ntb"
   },
   "outputs": [],
   "source": [
    "#Best model justification\n"
   ]
  },
  {
   "cell_type": "code",
   "execution_count": null,
   "metadata": {
    "id": "8Dwvn_0JCt9A"
   },
   "outputs": [],
   "source": [
    "#Create, compile and fit ANN BEST model\n"
   ]
  },
  {
   "cell_type": "code",
   "execution_count": null,
   "metadata": {
    "id": "7KvpGJi4C1fD"
   },
   "outputs": [],
   "source": [
    "#Plots\n"
   ]
  },
  {
   "cell_type": "code",
   "execution_count": null,
   "metadata": {
    "id": "rgUdskZ7Fz4n"
   },
   "outputs": [],
   "source": [
    "#Confusion matrix\n"
   ]
  },
  {
   "cell_type": "code",
   "execution_count": null,
   "metadata": {
    "id": "qWMB7Sq1hHdy"
   },
   "outputs": [],
   "source": [
    "#Accuracy\n"
   ]
  },
  {
   "cell_type": "code",
   "execution_count": null,
   "metadata": {
    "id": "FyVOsMOJISLp"
   },
   "outputs": [],
   "source": [
    "#Precision, Recall and F1-score for each label\n"
   ]
  },
  {
   "cell_type": "code",
   "execution_count": null,
   "metadata": {
    "id": "GlmpoPbzE5k0"
   },
   "outputs": [],
   "source": [
    "#Comment results\n"
   ]
  },
  {
   "cell_type": "markdown",
   "metadata": {
    "id": "LY6fFoV955e3"
   },
   "source": [
    "## 3. Red neuronal artificial: Regresión (4.5 puntos)"
   ]
  },
  {
   "cell_type": "markdown",
   "metadata": {
    "id": "vMTilNAuwN4X"
   },
   "source": [
    "En este apartado resolveremos un problema de regresión intentando predecir el precio de re-venta según las características de los coches. Partiremos del conjunto de datos original."
   ]
  },
  {
   "cell_type": "markdown",
   "metadata": {
    "id": "tKTYsFI45_rW"
   },
   "source": [
    "### Pre-procesado\n",
    "\n",
    "\n"
   ]
  },
  {
   "cell_type": "markdown",
   "metadata": {
    "id": "eSp_nZX3wQDT"
   },
   "source": [
    "<div style=\"background-color: #EDF7FF; border-color: #7C9DBF; border-left: 5px solid #7C9DBF; padding: 0.5em;\">\n",
    "<strong>Ejercicio (0.5 puntos):</strong> Pre-procesa los datos: \n",
    "<ul>\n",
    "<li>   Crea los vectores de variables dependientes (<i>features</i>) y de la variable independiente (<i>target</i>)</li>\n",
    "<li>   Normaliza debidamente los datos</li>\n",
    "<li>   Divide el conjunto de datos en 70% para entrenamiento y 30% para test, usando la función <code>train_test_split</code></li>\n",
    "<li>   Muestra las dimensiones de los conjuntos de entrenamiento y test</li>\n",
    "</ul>\n",
    "</div>"
   ]
  },
  {
   "cell_type": "code",
   "execution_count": null,
   "metadata": {
    "id": "2ZFhPX92wqB7"
   },
   "outputs": [],
   "source": [
    "#Create features and target vectors\n",
    "features = None\n",
    "target = None"
   ]
  },
  {
   "cell_type": "code",
   "execution_count": null,
   "metadata": {
    "id": "hUi95MvbAa-u"
   },
   "outputs": [],
   "source": [
    "#Normalizing the data\n"
   ]
  },
  {
   "cell_type": "code",
   "execution_count": null,
   "metadata": {
    "id": "_vUVcRn_wdQx"
   },
   "outputs": [],
   "source": [
    "#Split train-test\n"
   ]
  },
  {
   "cell_type": "code",
   "execution_count": null,
   "metadata": {
    "id": "Ca_Zk7PfwkPE"
   },
   "outputs": [],
   "source": [
    "#Dimensions\n"
   ]
  },
  {
   "cell_type": "markdown",
   "metadata": {
    "id": "6Q7VJZn_6Eru"
   },
   "source": [
    "### Modelo base"
   ]
  },
  {
   "cell_type": "markdown",
   "metadata": {
    "id": "aI1qOtftx4J0"
   },
   "source": [
    "En primer lugar diseñaremos un modelo base con tres capas ocultas.\n",
    "\n",
    "Nota: Para el ajuste del modelo usaremos los datos de test como conjunto de validación."
   ]
  },
  {
   "cell_type": "markdown",
   "metadata": {
    "id": "0AhiMwVZw13D"
   },
   "source": [
    "<div style=\"background-color: #EDF7FF; border-color: #7C9DBF; border-left: 5px solid #7C9DBF; padding: 0.5em;\">\n",
    "<strong>Ejercicio (1 punto):</strong> Implementa el modelo de red neuronal artificial:\n",
    "<ul>\n",
    "<li>Diseña la arquitectura para el modelo de regresión con las siguientes características:</li>\n",
    "    <ul>\n",
    "   <li>1 primera capa oculta completamente conectada de 128 neuronas y activación ReLU</li>\n",
    "   <li>2 capas ocultas de 32 y 16 neuronas y activación tangencial</li>\n",
    "   <li>Todas las capas deben tener <code>kernel_initizalizer</code> en modo 'normal'</li>\n",
    "   </ul>\n",
    "<li>Compila el modelo con la función de pérdida más adecuada y el optimizador Adam</li>\n",
    "\n",
    "<li>Ajusta el modelo con 50 épocas y un tamaño del batch de 32</li>\n",
    "\n",
    "<li>Muestra la gráfica de pérdida. En la gráfica debe visualizarse la curva de entrenamiento y la de validación</li>\n",
    "</ul>\n",
    "</div>"
   ]
  },
  {
   "cell_type": "code",
   "execution_count": null,
   "metadata": {
    "id": "KJaRnNOcAyNi"
   },
   "outputs": [],
   "source": [
    "#Create ANN model\n"
   ]
  },
  {
   "cell_type": "code",
   "execution_count": null,
   "metadata": {
    "id": "nvu-prE3radd"
   },
   "outputs": [],
   "source": [
    "#Compiling the model\n"
   ]
  },
  {
   "cell_type": "code",
   "execution_count": null,
   "metadata": {
    "id": "W6zQWqGjrb54"
   },
   "outputs": [],
   "source": [
    "#Fit model\n"
   ]
  },
  {
   "cell_type": "code",
   "execution_count": null,
   "metadata": {
    "id": "uJdhQfZlDlXj"
   },
   "outputs": [],
   "source": [
    "#Plots\n"
   ]
  },
  {
   "cell_type": "markdown",
   "metadata": {
    "id": "3_rxKFH96Jeb"
   },
   "source": [
    "### Búsqueda hiperparámetros"
   ]
  },
  {
   "cell_type": "markdown",
   "metadata": {
    "id": "CqVgHOUoF3hN"
   },
   "source": [
    "Una vez tenemos el modelo base nos interesa buscar la configuración de hiperparámetros que nos proporcione una mejor predicción del precio de re-venta de los coches. En este apartado haremos una búsqueda de hiperparámetros, recorriendo varios valores de número de capas, número de neuronas, tamaño del batch y épocas."
   ]
  },
  {
   "cell_type": "markdown",
   "metadata": {
    "id": "DtiaTO_LyC6p"
   },
   "source": [
    "<div style=\"background-color: #EDF7FF; border-color: #7C9DBF; border-left: 5px solid #7C9DBF; padding: 0.5em;\">\n",
    "<strong>Ejercicio (1.75 puntos):</strong> Implementa una función que evalúe distintos modelos combinando las siguientes características:\n",
    "<ul>    \n",
    "   <li>Tres arquitecturas diferentes con las siguientes configuraciones de número de capas ocultas (completamente conectadas) y número de neuronas en cada capa:</li>\n",
    "        <ul>\n",
    "        <li>[128, 64, 16]</li>\n",
    "        <li>[16, 4]</li>\n",
    "        <li>[4, 4]</li>\n",
    "        </ul> \n",
    "   <li>Tamaño del batch de 16 y 32</li>\n",
    "   <li>Épocas de 20, 50 y 100</li>\n",
    "</ul>   \n",
    "    \n",
    "    \n",
    "Como en el ejercicio anterior, la primera capa oculta tendrá siempre activación ReLU y las demás activación tangencial. El inicializador de kernel estará en modo 'normal' y usaremos el optimizador Adam.\n",
    "\n",
    "    \n",
    "La función deberá proporcionar una tabla con los siguientes campos: arquitectura de la red seleccionada, épocas, tamaño del batch, tiempo de entrenamiento, y raíz del error cuadrático medio (RMSE) del modelo \n",
    "\n",
    "-----------------------------------------------------------------------------------------------------------\n",
    "<b>Importante</b>: para la entrega de la PEC, fijar el parámetro <code>verbose = 0</code> en el entrenamiento de los modelos. La solución únicamente debe mostrar la tabla resultante.\n",
    "</div>"
   ]
  },
  {
   "cell_type": "code",
   "execution_count": null,
   "metadata": {
    "id": "2KkKLxm6dyyE"
   },
   "outputs": [],
   "source": [
    "#Hiperparameter search function\n"
   ]
  },
  {
   "cell_type": "code",
   "execution_count": null,
   "metadata": {
    "id": "Mb0zgnA4eTr1"
   },
   "outputs": [],
   "source": [
    "#Compute search\n"
   ]
  },
  {
   "cell_type": "markdown",
   "metadata": {
    "id": "rqrm7yA24NnA"
   },
   "source": [
    "<div style=\"background-color: #EDF7FF; border-color: #7C9DBF; border-left: 5px solid #7C9DBF; padding: 0.5em;\">\n",
    "<strong>Ejercicio (0.25 puntos):</strong> Representa en un gráfico el RMSE vs la configuración de los modelos \n",
    "\n",
    "</div>"
   ]
  },
  {
   "cell_type": "code",
   "execution_count": null,
   "metadata": {
    "id": "o2P1ljcIzmEY"
   },
   "outputs": [],
   "source": [
    "#Plot\n"
   ]
  },
  {
   "cell_type": "markdown",
   "metadata": {
    "id": "t4N_tg0l6QKu"
   },
   "source": [
    "### Elección mejor modelo y predicción"
   ]
  },
  {
   "cell_type": "markdown",
   "metadata": {
    "id": "AEZsFSi34t-9"
   },
   "source": [
    "<div style=\"background-color: #EDF7FF; border-color: #7C9DBF; border-left: 5px solid #7C9DBF; padding: 0.5em;\">\n",
    "<strong>Ejercicio (1 punto):</strong> Identifica la configuración que proporciona mejores resultados:\n",
    "<ul> \n",
    "<li>Justifica la elección del modelo</li>\n",
    "<li>Compila y entrena el modelo elegido. Nota: para la entrega, presentar con verbose=0</li>\n",
    "<li>Muestra la correspondiente gráfica de pérdida de los conjuntos de entrenamiento y validación</li>\n",
    "<li>Calcula las predicciones del precio y muestra en una tabla el Precio original (<code>price</code>) y el Precio predicho (<code>predicted_price</code>) para las 10 primeras filas del conjunto de test</li>\n",
    "<li>Comenta los resultados obtenidos</li>\n",
    "</ul> \n",
    "</div>"
   ]
  },
  {
   "cell_type": "code",
   "execution_count": null,
   "metadata": {
    "id": "yTfD3bP25nlO"
   },
   "outputs": [],
   "source": [
    "#Best configuration justification\n"
   ]
  },
  {
   "cell_type": "code",
   "execution_count": null,
   "metadata": {
    "id": "HX-ArM1vFNhX"
   },
   "outputs": [],
   "source": [
    "#Create, compile and fit ANN best model\n"
   ]
  },
  {
   "cell_type": "code",
   "execution_count": null,
   "metadata": {
    "id": "NuBBa_vgk7Ci"
   },
   "outputs": [],
   "source": [
    "#Plot\n"
   ]
  },
  {
   "cell_type": "code",
   "execution_count": null,
   "metadata": {
    "id": "ID7eKLDdF0P4"
   },
   "outputs": [],
   "source": [
    "#Generate Predictions on testing data\n"
   ]
  },
  {
   "cell_type": "code",
   "execution_count": null,
   "metadata": {
    "id": "7gqSXyS8511-"
   },
   "outputs": [],
   "source": [
    "#Comment results\n"
   ]
  }
 ],
 "metadata": {
  "colab": {
   "collapsed_sections": [],
   "name": "20212_M2_875_PEC1_Enunciado.ipynb",
   "provenance": []
  },
  "kernelspec": {
   "display_name": "Python 3 (ipykernel)",
   "language": "python",
   "name": "python3"
  },
  "language_info": {
   "codemirror_mode": {
    "name": "ipython",
    "version": 3
   },
   "file_extension": ".py",
   "mimetype": "text/x-python",
   "name": "python",
   "nbconvert_exporter": "python",
   "pygments_lexer": "ipython3",
   "version": "3.8.10"
  }
 },
 "nbformat": 4,
 "nbformat_minor": 1
}
